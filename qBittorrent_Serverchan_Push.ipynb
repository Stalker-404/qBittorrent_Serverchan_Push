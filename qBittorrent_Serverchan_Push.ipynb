{
  "nbformat": 4,
  "nbformat_minor": 0,
  "metadata": {
    "colab": {
      "name": "qBittorrent_Serverchan_Push.ipynb",
      "provenance": [],
      "collapsed_sections": [],
      "toc_visible": true,
      "authorship_tag": "ABX9TyNiJg+Q8C1gmSUIibNyrG3a",
      "include_colab_link": true
    },
    "kernelspec": {
      "name": "python3",
      "display_name": "Python 3"
    },
    "language_info": {
      "name": "python"
    }
  },
  "cells": [
    {
      "cell_type": "markdown",
      "metadata": {
        "id": "view-in-github",
        "colab_type": "text"
      },
      "source": [
        "<a href=\"https://colab.research.google.com/github/Stalker-404/qBittorrent_Serverchan_Push/blob/main/qBittorrent_Serverchan_Push.ipynb\" target=\"_parent\"><img src=\"https://colab.research.google.com/assets/colab-badge.svg\" alt=\"Open In Colab\"/></a>"
      ]
    },
    {
      "cell_type": "code",
      "execution_count": null,
      "metadata": {
        "id": "cE4jAFPK53yw"
      },
      "outputs": [],
      "source": [
        "import requests\n",
        "import sys\n",
        "import math\n",
        "from urllib.parse import quote\n",
        "\n",
        "# 获取参数\n",
        "torrent_name = sys.argv[1] #torrent名称\n",
        "torrent_dir = sys.argv[2] #torrent存储位置\n",
        "filesize_Byte = int(sys.argv[3]) #文件大小，单位Byte，类型int\n",
        "file_num = sys.argv[4] #文件个数\n",
        "key = \"**********************************\" #填入通过Serverchan获取的sendkey\n",
        "\n",
        "# 文件大小单位自适应转换\n",
        "def convert_size(size_bytes):\n",
        "   if size_bytes == 0:\n",
        "       return \"0B\"\n",
        "   size_name = (\"B\", \"KB\", \"MB\", \"GB\", \"TB\", \"PB\", \"EB\", \"ZB\", \"YB\")\n",
        "   i = int(math.floor(math.log(size_bytes, 1024)))\n",
        "   p = math.pow(1024, i)\n",
        "   s = round(size_bytes / p, 2)\n",
        "   return \"%s %s\" % (s, size_name[i])\n",
        "\n",
        "filesize_converted = convert_size(filesize_Byte) #将Byte转换为不同的单位，类型str\n",
        "\n",
        "# 根据markdown语言规则，更改方括号的表达字符\n",
        "torrent_name = torrent_name.replace(\"[\", \"\\[\"); \n",
        "torrent_name = torrent_name.replace(\"]\", \"\\]\");\n",
        "torrent_dir = torrent_dir.replace(\"[\", \"\\[\");\n",
        "torrent_dir = torrent_dir.replace(\"]\", \"\\]\");\n",
        "\n",
        "# 定义推送标题和内容\n",
        "title = \"qBittorrent下载完成\" #标题\n",
        "content = \"\"\"\n",
        "**种子名称：**{}\\n\n",
        "**保存位置：**{}\\n\n",
        "**文件大小：**{}\\n\n",
        "**文件个数：**{}\n",
        "\"\"\".format(torrent_name,torrent_dir,filesize_converted,file_num)#信息内容\n",
        "\n",
        "# 进行URL转义\n",
        "content = quote(content, 'utf-8')\n",
        "\n",
        "# 发送信息\n",
        "requests.get(\"https://sc.ftqq.com/{}.send?text={}&desp={}\".format(key,title,content))"
      ]
    }
  ]
}